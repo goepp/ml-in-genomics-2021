{
 "cells": [
  {
   "cell_type": "markdown",
   "metadata": {},
   "source": [
    "# Machine learning for genetic data"
   ]
  },
  {
   "cell_type": "code",
   "execution_count": 1,
   "metadata": {},
   "outputs": [
    {
     "name": "stdout",
     "output_type": "stream",
     "text": [
      "Populating the interactive namespace from numpy and matplotlib\n"
     ]
    }
   ],
   "source": [
    "%pylab inline \n",
    "# imports matplotlib as plt and numpy as np"
   ]
  },
  {
   "cell_type": "code",
   "execution_count": 2,
   "metadata": {},
   "outputs": [],
   "source": [
    "plt.rc('font', **{'size': 16}) # font size for text on plots"
   ]
  },
  {
   "cell_type": "markdown",
   "metadata": {},
   "source": [
    "## Data description\n",
    "\n",
    "* `data/athaliana_small.X.txt` is the design matrix. As many rows as samples, as many columns as SNPs\n",
    "* the SNPs are given (in order) in `data/athaliana_small.snps.txt`. \n",
    "* the samples are given (in order) in `data/athaliana.samples.txt`.\n",
    "\n",
    "* the transformed phenotypes are given in `data/athaliana.4W.pheno` and `data/athaliana.2W.pheno`. The first column is the sample's ID, and the second the phenotype.\n",
    "\n",
    "* `data/athaliana.candidates.txt` contains a list of _A. thaliana_ genes known or strongly suspected to be associated with flowering times.\n",
    "\n",
    "* the feature network is in `data/athaliana_small.W.txt`. It has been saved as 3 arrays, corresponding to the row, col, and data attributes of a [scipy.sparse coo_matrix](https://docs.scipy.org/doc/scipy/reference/generated/scipy.sparse.coo_matrix.html)."
   ]
  },
  {
   "cell_type": "markdown",
   "metadata": {},
   "source": [
    "## Loading the data\n",
    "We will start by working without the feature network, on the 2W phenotype."
   ]
  },
  {
   "cell_type": "code",
   "execution_count": 3,
   "metadata": {},
   "outputs": [
    {
     "name": "stdout",
     "output_type": "stream",
     "text": [
      "9419\n"
     ]
    }
   ],
   "source": [
    "# Load the SNP names\n",
    "with open('data/athaliana_small.snps.txt') as f:\n",
    "    snp_names = f.readline().split()\n",
    "    f.close()\n",
    "print(len(snp_names))"
   ]
  },
  {
   "cell_type": "code",
   "execution_count": 4,
   "metadata": {},
   "outputs": [],
   "source": [
    "# Load the design matrix -- this can take time!\n",
    "X = np.loadtxt('data/athaliana_small.X.txt',  # file names\n",
    "               dtype = 'int') # values are integers"
   ]
  },
  {
   "cell_type": "code",
   "execution_count": 5,
   "metadata": {},
   "outputs": [
    {
     "data": {
      "text/plain": [
       "(1307, 9419)"
      ]
     },
     "execution_count": 5,
     "metadata": {},
     "output_type": "execute_result"
    }
   ],
   "source": [
    "X.shape"
   ]
  },
  {
   "cell_type": "code",
   "execution_count": 6,
   "metadata": {},
   "outputs": [],
   "source": [
    "p = X.shape[1]"
   ]
  },
  {
   "cell_type": "markdown",
   "metadata": {},
   "source": [
    "We have 1307 samples and 9 419 SNPs.\n",
    "\n",
    "The 2W phenotype is not available for all samples. \n",
    "\n",
    "#### Load the sample names"
   ]
  },
  {
   "cell_type": "code",
   "execution_count": 7,
   "metadata": {},
   "outputs": [
    {
     "name": "stdout",
     "output_type": "stream",
     "text": [
      "1307\n",
      "[9381, 9380, 9378, 9371, 9367, 9363, 9356, 9355, 9354, 9353]\n"
     ]
    }
   ],
   "source": [
    "samples = list(np.loadtxt('data/athaliana.samples.txt', # file names\n",
    "                         dtype = int)) # values are integers\n",
    "print(len(samples))\n",
    "print(samples[:10])"
   ]
  },
  {
   "cell_type": "markdown",
   "metadata": {},
   "source": [
    "### Load the 2W phenotype data"
   ]
  },
  {
   "cell_type": "code",
   "execution_count": 8,
   "metadata": {},
   "outputs": [],
   "source": [
    "import pandas as pd"
   ]
  },
  {
   "cell_type": "code",
   "execution_count": 9,
   "metadata": {},
   "outputs": [
    {
     "name": "stdout",
     "output_type": "stream",
     "text": [
      "152 samples have a phenotype\n"
     ]
    }
   ],
   "source": [
    "df = pd.read_csv('data/athaliana.2W.pheno', # file name\n",
    "                 header = None, # columns have no header\n",
    "                 delim_whitespace = True) # columns are separated by white space\n",
    "\n",
    "# Create vector of sample IDs\n",
    "samples_with_phenotype = list(df[0])\n",
    "print(len(samples_with_phenotype), \"samples have a phenotype\")\n",
    "\n",
    "# Create vector of phenotypes\n",
    "y_2W = np.array(df[1])"
   ]
  },
  {
   "cell_type": "code",
   "execution_count": 10,
   "metadata": {},
   "outputs": [
    {
     "name": "stdout",
     "output_type": "stream",
     "text": [
      "(152, 9419)\n"
     ]
    }
   ],
   "source": [
    "# Restrict X to the samples with a 2W phenotype, in correct order\n",
    "# X_2W[i] = X[samples.index(samples_with_phenotype[i])]\n",
    "X_2W = X[np.array([samples.index(sample_id) \\\n",
    "                   for sample_id in samples_with_phenotype]), :]\n",
    "print(X_2W.shape)"
   ]
  },
  {
   "cell_type": "markdown",
   "metadata": {},
   "source": [
    "### Load the list of candidate genes"
   ]
  },
  {
   "cell_type": "code",
   "execution_count": 11,
   "metadata": {},
   "outputs": [],
   "source": [
    "with open('data/athaliana.candidates.txt') as f:\n",
    "    candidate_genes = f.readline().split()\n",
    "    f.close()"
   ]
  },
  {
   "cell_type": "markdown",
   "metadata": {},
   "source": [
    "### Load the snps to gene mapping"
   ]
  },
  {
   "cell_type": "code",
   "execution_count": 12,
   "metadata": {},
   "outputs": [],
   "source": [
    "genes_by_snp = {} # key: SNP, value = [genes in/near which this SNP is]\n",
    "with open('data/athaliana.snps_by_gene.txt') as f:\n",
    "    for line in f:\n",
    "        ls = line.split()\n",
    "        gene_id = ls[0]\n",
    "        for snp_id in ls[1:]:\n",
    "            if not snp_id in genes_by_snp:\n",
    "                genes_by_snp[snp_id] = []\n",
    "            genes_by_snp[snp_id].append(gene_id) "
   ]
  },
  {
   "cell_type": "markdown",
   "metadata": {},
   "source": [
    "### Split the data in a train and test set"
   ]
  },
  {
   "cell_type": "markdown",
   "metadata": {},
   "source": [
    "We will set aside a test set, containing 20% of our samples, on which to evaluate the quality of our predictive models."
   ]
  },
  {
   "cell_type": "code",
   "execution_count": 13,
   "metadata": {},
   "outputs": [],
   "source": [
    "from sklearn import model_selection"
   ]
  },
  {
   "cell_type": "code",
   "execution_count": 14,
   "metadata": {},
   "outputs": [
    {
     "name": "stdout",
     "output_type": "stream",
     "text": [
      "(121, 9419) (31, 9419)\n"
     ]
    }
   ],
   "source": [
    "X_2W_tr, X_2W_te, y_2W_tr, y_2W_te = \\\n",
    "    model_selection.train_test_split(X_2W, y_2W, test_size = 0.2, random_state = 17)\n",
    "print(X_2W_tr.shape, X_2W_te.shape)"
   ]
  },
  {
   "cell_type": "markdown",
   "metadata": {},
   "source": [
    "## Elastic net\n",
    "\n",
    "One solution to make the lasso more stable is to use a combination of the l1 and l2 regularizations.\n",
    "\n",
    "We are now minimizing the loss + a linear combination of an l1-norm and an l2-norm over the regression weights. This imposes sparsity, but encourages correlated features to be selected together, where the lasso would tend to pick only one (at random) of a group of correlated features.\n",
    "\n",
    "The elastic net is implemented in scikit-learn's [linear_model.ElasticNet](http://scikit-learn.org/stable/modules/generated/sklearn.linear_model.ElasticNet.html#sklearn.linear_model.ElasticNet)."
   ]
  },
  {
   "cell_type": "markdown",
   "metadata": {},
   "source": [
    "### Regularization path"
   ]
  },
  {
   "cell_type": "code",
   "execution_count": 15,
   "metadata": {},
   "outputs": [],
   "source": [
    "from sklearn import linear_model"
   ]
  },
  {
   "cell_type": "code",
   "execution_count": 16,
   "metadata": {},
   "outputs": [],
   "source": [
    "eps = 3e-1"
   ]
  },
  {
   "cell_type": "code",
   "execution_count": 17,
   "metadata": {},
   "outputs": [],
   "source": [
    "alphas_lasso, coefs_lasso, _ = linear_model.lasso_path(X_2W_tr[:, :], y_2W_tr, eps = eps, fit_intercept = True)"
   ]
  },
  {
   "cell_type": "code",
   "execution_count": 18,
   "metadata": {},
   "outputs": [],
   "source": [
    "alphas_enet, coefs_enet, _ = linear_model.enet_path(\n",
    "    X_2W_tr[:, :], y_2W_tr, eps = eps, l1_ratio = 0.95, fit_intercept = True)"
   ]
  },
  {
   "cell_type": "code",
   "execution_count": 19,
   "metadata": {},
   "outputs": [
    {
     "data": {
      "image/png": "[encoded data removed]",
      "text/plain": [
       "<Figure size 720x432 with 1 Axes>"
      ]
     },
     "metadata": {
      "needs_background": "light"
     },
     "output_type": "display_data"
    }
   ],
   "source": [
    "from itertools import cycle\n",
    "import matplotlib.colors as mcolors\n",
    "colors = cycle(list(mcolors.TABLEAU_COLORS.keys()))\n",
    "figure(figsize = (10, 6))\n",
    "neg_log_alphas_lasso = -np.log10(alphas_lasso)\n",
    "neg_log_alphas_enet = -np.log10(alphas_enet)\n",
    "for coef_l, coef_e, c in zip(coefs_lasso, coefs_enet, colors):\n",
    "    l1 = plt.plot(neg_log_alphas_lasso, coef_l, c = c)\n",
    "    l2 = plt.plot(neg_log_alphas_enet, coef_e, linestyle = '--', c = c)\n",
    "\n",
    "plt.xlabel('-Log(alpha)')\n",
    "plt.ylabel('coefficients')\n",
    "plt.title('Lasso and Elastic-Net Paths')\n",
    "plt.legend((l1[-1], l2[-1]), ('Lasso', 'Elastic-Net'), loc='lower left')\n",
    "plt.axis('tight')\n",
    "plt.show()"
   ]
  },
  {
   "cell_type": "markdown",
   "metadata": {},
   "source": [
    "__Q: Compared to the lasso, what is the effect of the elastic-net on the coefficients?__"
   ]
  },
  {
   "cell_type": "markdown",
   "metadata": {},
   "source": [
    "__A:__ The elastic-net induces more shrinkage than the lasso. More precisely, by selecting groups of correlated variables together, the elastic-net tends to shrink each of them more."
   ]
  },
  {
   "cell_type": "markdown",
   "metadata": {},
   "source": [
    "### Fit lastic-net"
   ]
  },
  {
   "cell_type": "code",
   "execution_count": 20,
   "metadata": {},
   "outputs": [],
   "source": [
    "# Parameters grid\n",
    "alphas = np.logspace(-4., 1., num = 15)\n",
    "ratios = np.linspace(0.5, 1., num = 15)"
   ]
  },
  {
   "cell_type": "markdown",
   "metadata": {},
   "source": [
    "__Q: Define the elastic net model (call it `model_l1l2`) using the functions `ElasticNet` and `GridSearchCV`.__"
   ]
  },
  {
   "cell_type": "code",
   "execution_count": 21,
   "metadata": {},
   "outputs": [
    {
     "name": "stderr",
     "output_type": "stream",
     "text": [
      "/shared/software/miniconda/envs/python-3.7/lib/python3.7/site-packages/sklearn/linear_model/_coordinate_descent.py:532: ConvergenceWarning: Objective did not converge. You might want to increase the number of iterations. Duality gap: 4.18740496023208, tolerance: 4.037147787395833\n",
      "  positive)\n",
      "/shared/software/miniconda/envs/python-3.7/lib/python3.7/site-packages/sklearn/linear_model/_coordinate_descent.py:532: ConvergenceWarning: Objective did not converge. You might want to increase the number of iterations. Duality gap: 6.877920142284204, tolerance: 5.813806200206185\n",
      "  positive)\n",
      "/shared/software/miniconda/envs/python-3.7/lib/python3.7/site-packages/sklearn/linear_model/_coordinate_descent.py:532: ConvergenceWarning: Objective did not converge. You might want to increase the number of iterations. Duality gap: 6.0967815158641425, tolerance: 5.330533580824742\n",
      "  positive)\n",
      "/shared/software/miniconda/envs/python-3.7/lib/python3.7/site-packages/sklearn/linear_model/_coordinate_descent.py:532: ConvergenceWarning: Objective did not converge. You might want to increase the number of iterations. Duality gap: 6.360720665968274, tolerance: 5.543979513608248\n",
      "  positive)\n",
      "/shared/software/miniconda/envs/python-3.7/lib/python3.7/site-packages/sklearn/linear_model/_coordinate_descent.py:532: ConvergenceWarning: Objective did not converge. You might want to increase the number of iterations. Duality gap: 6.132281839392631, tolerance: 5.567002575463919\n",
      "  positive)\n",
      "/shared/software/miniconda/envs/python-3.7/lib/python3.7/site-packages/sklearn/linear_model/_coordinate_descent.py:532: ConvergenceWarning: Objective did not converge. You might want to increase the number of iterations. Duality gap: 4.085034820906682, tolerance: 4.037147787395833\n",
      "  positive)\n",
      "/shared/software/miniconda/envs/python-3.7/lib/python3.7/site-packages/sklearn/linear_model/_coordinate_descent.py:532: ConvergenceWarning: Objective did not converge. You might want to increase the number of iterations. Duality gap: 6.7722461843397195, tolerance: 5.813806200206185\n",
      "  positive)\n",
      "/shared/software/miniconda/envs/python-3.7/lib/python3.7/site-packages/sklearn/linear_model/_coordinate_descent.py:532: ConvergenceWarning: Objective did not converge. You might want to increase the number of iterations. Duality gap: 5.96173926986892, tolerance: 5.330533580824742\n",
      "  positive)\n",
      "/shared/software/miniconda/envs/python-3.7/lib/python3.7/site-packages/sklearn/linear_model/_coordinate_descent.py:532: ConvergenceWarning: Objective did not converge. You might want to increase the number of iterations. Duality gap: 6.229275756178465, tolerance: 5.543979513608248\n",
      "  positive)\n",
      "/shared/software/miniconda/envs/python-3.7/lib/python3.7/site-packages/sklearn/linear_model/_coordinate_descent.py:532: ConvergenceWarning: Objective did not converge. You might want to increase the number of iterations. Duality gap: 5.991694337395228, tolerance: 5.567002575463919\n",
      "  positive)\n",
      "/shared/software/miniconda/envs/python-3.7/lib/python3.7/site-packages/sklearn/linear_model/_coordinate_descent.py:532: ConvergenceWarning: Objective did not converge. You might want to increase the number of iterations. Duality gap: 4.112218251762599, tolerance: 4.037147787395833\n",
      "  positive)\n",
      "/shared/software/miniconda/envs/python-3.7/lib/python3.7/site-packages/sklearn/linear_model/_coordinate_descent.py:532: ConvergenceWarning: Objective did not converge. You might want to increase the number of iterations. Duality gap: 6.630805678977814, tolerance: 5.813806200206185\n",
      "  positive)\n",
      "/shared/software/miniconda/envs/python-3.7/lib/python3.7/site-packages/sklearn/linear_model/_coordinate_descent.py:532: ConvergenceWarning: Objective did not converge. You might want to increase the number of iterations. Duality gap: 5.857912406481932, tolerance: 5.330533580824742\n",
      "  positive)\n",
      "/shared/software/miniconda/envs/python-3.7/lib/python3.7/site-packages/sklearn/linear_model/_coordinate_descent.py:532: ConvergenceWarning: Objective did not converge. You might want to increase the number of iterations. Duality gap: 6.161587799273519, tolerance: 5.543979513608248\n",
      "  positive)\n",
      "/shared/software/miniconda/envs/python-3.7/lib/python3.7/site-packages/sklearn/linear_model/_coordinate_descent.py:532: ConvergenceWarning: Objective did not converge. You might want to increase the number of iterations. Duality gap: 5.853725711445133, tolerance: 5.567002575463919\n",
      "  positive)\n",
      "/shared/software/miniconda/envs/python-3.7/lib/python3.7/site-packages/sklearn/linear_model/_coordinate_descent.py:532: ConvergenceWarning: Objective did not converge. You might want to increase the number of iterations. Duality gap: 4.103961803772716, tolerance: 4.037147787395833\n",
      "  positive)\n",
      "/shared/software/miniconda/envs/python-3.7/lib/python3.7/site-packages/sklearn/linear_model/_coordinate_descent.py:532: ConvergenceWarning: Objective did not converge. You might want to increase the number of iterations. Duality gap: 6.4463560117402805, tolerance: 5.813806200206185\n",
      "  positive)\n",
      "/shared/software/miniconda/envs/python-3.7/lib/python3.7/site-packages/sklearn/linear_model/_coordinate_descent.py:532: ConvergenceWarning: Objective did not converge. You might want to increase the number of iterations. Duality gap: 5.745085475927851, tolerance: 5.330533580824742\n",
      "  positive)\n",
      "/shared/software/miniconda/envs/python-3.7/lib/python3.7/site-packages/sklearn/linear_model/_coordinate_descent.py:532: ConvergenceWarning: Objective did not converge. You might want to increase the number of iterations. Duality gap: 6.111131974060811, tolerance: 5.543979513608248\n",
      "  positive)\n",
      "/shared/software/miniconda/envs/python-3.7/lib/python3.7/site-packages/sklearn/linear_model/_coordinate_descent.py:532: ConvergenceWarning: Objective did not converge. You might want to increase the number of iterations. Duality gap: 5.759719419793144, tolerance: 5.567002575463919\n",
      "  positive)\n",
      "/shared/software/miniconda/envs/python-3.7/lib/python3.7/site-packages/sklearn/linear_model/_coordinate_descent.py:532: ConvergenceWarning: Objective did not converge. You might want to increase the number of iterations. Duality gap: 6.273030944363157, tolerance: 5.813806200206185\n",
      "  positive)\n",
      "/shared/software/miniconda/envs/python-3.7/lib/python3.7/site-packages/sklearn/linear_model/_coordinate_descent.py:532: ConvergenceWarning: Objective did not converge. You might want to increase the number of iterations. Duality gap: 5.520388204565126, tolerance: 5.330533580824742\n",
      "  positive)\n",
      "/shared/software/miniconda/envs/python-3.7/lib/python3.7/site-packages/sklearn/linear_model/_coordinate_descent.py:532: ConvergenceWarning: Objective did not converge. You might want to increase the number of iterations. Duality gap: 6.044646516341411, tolerance: 5.543979513608248\n",
      "  positive)\n",
      "/shared/software/miniconda/envs/python-3.7/lib/python3.7/site-packages/sklearn/linear_model/_coordinate_descent.py:532: ConvergenceWarning: Objective did not converge. You might want to increase the number of iterations. Duality gap: 5.613810732093706, tolerance: 5.567002575463919\n",
      "  positive)\n",
      "/shared/software/miniconda/envs/python-3.7/lib/python3.7/site-packages/sklearn/linear_model/_coordinate_descent.py:532: ConvergenceWarning: Objective did not converge. You might want to increase the number of iterations. Duality gap: 5.872992889046277, tolerance: 5.813806200206185\n",
      "  positive)\n",
      "/shared/software/miniconda/envs/python-3.7/lib/python3.7/site-packages/sklearn/linear_model/_coordinate_descent.py:532: ConvergenceWarning: Objective did not converge. You might want to increase the number of iterations. Duality gap: 5.9358823455474035, tolerance: 5.543979513608248\n",
      "  positive)\n",
      "/shared/software/miniconda/envs/python-3.7/lib/python3.7/site-packages/sklearn/linear_model/_coordinate_descent.py:532: ConvergenceWarning: Objective did not converge. You might want to increase the number of iterations. Duality gap: 5.631412874400574, tolerance: 5.567002575463919\n",
      "  positive)\n",
      "/shared/software/miniconda/envs/python-3.7/lib/python3.7/site-packages/sklearn/linear_model/_coordinate_descent.py:532: ConvergenceWarning: Objective did not converge. You might want to increase the number of iterations. Duality gap: 5.765778743853293, tolerance: 5.543979513608248\n",
      "  positive)\n",
      "/shared/software/miniconda/envs/python-3.7/lib/python3.7/site-packages/sklearn/linear_model/_coordinate_descent.py:532: ConvergenceWarning: Objective did not converge. You might want to increase the number of iterations. Duality gap: 5.568859859713738, tolerance: 5.543979513608248\n",
      "  positive)\n",
      "/shared/software/miniconda/envs/python-3.7/lib/python3.7/site-packages/sklearn/linear_model/_coordinate_descent.py:532: ConvergenceWarning: Objective did not converge. You might want to increase the number of iterations. Duality gap: 4.578740932776873, tolerance: 4.037147787395833\n",
      "  positive)\n",
      "/shared/software/miniconda/envs/python-3.7/lib/python3.7/site-packages/sklearn/linear_model/_coordinate_descent.py:532: ConvergenceWarning: Objective did not converge. You might want to increase the number of iterations. Duality gap: 7.017907118614043, tolerance: 5.813806200206185\n",
      "  positive)\n",
      "/shared/software/miniconda/envs/python-3.7/lib/python3.7/site-packages/sklearn/linear_model/_coordinate_descent.py:532: ConvergenceWarning: Objective did not converge. You might want to increase the number of iterations. Duality gap: 7.3433172835522775, tolerance: 5.330533580824742\n",
      "  positive)\n",
      "/shared/software/miniconda/envs/python-3.7/lib/python3.7/site-packages/sklearn/linear_model/_coordinate_descent.py:532: ConvergenceWarning: Objective did not converge. You might want to increase the number of iterations. Duality gap: 7.3421607504638615, tolerance: 5.543979513608248\n",
      "  positive)\n",
      "/shared/software/miniconda/envs/python-3.7/lib/python3.7/site-packages/sklearn/linear_model/_coordinate_descent.py:532: ConvergenceWarning: Objective did not converge. You might want to increase the number of iterations. Duality gap: 6.358761465236476, tolerance: 5.567002575463919\n",
      "  positive)\n",
      "/shared/software/miniconda/envs/python-3.7/lib/python3.7/site-packages/sklearn/linear_model/_coordinate_descent.py:532: ConvergenceWarning: Objective did not converge. You might want to increase the number of iterations. Duality gap: 4.41986129768466, tolerance: 4.037147787395833\n",
      "  positive)\n",
      "/shared/software/miniconda/envs/python-3.7/lib/python3.7/site-packages/sklearn/linear_model/_coordinate_descent.py:532: ConvergenceWarning: Objective did not converge. You might want to increase the number of iterations. Duality gap: 6.868499282734478, tolerance: 5.813806200206185\n",
      "  positive)\n",
      "/shared/software/miniconda/envs/python-3.7/lib/python3.7/site-packages/sklearn/linear_model/_coordinate_descent.py:532: ConvergenceWarning: Objective did not converge. You might want to increase the number of iterations. Duality gap: 7.502610328736067, tolerance: 5.330533580824742\n",
      "  positive)\n",
      "/shared/software/miniconda/envs/python-3.7/lib/python3.7/site-packages/sklearn/linear_model/_coordinate_descent.py:532: ConvergenceWarning: Objective did not converge. You might want to increase the number of iterations. Duality gap: 7.308419133735178, tolerance: 5.543979513608248\n",
      "  positive)\n",
      "/shared/software/miniconda/envs/python-3.7/lib/python3.7/site-packages/sklearn/linear_model/_coordinate_descent.py:532: ConvergenceWarning: Objective did not converge. You might want to increase the number of iterations. Duality gap: 6.13291711919605, tolerance: 5.567002575463919\n",
      "  positive)\n",
      "/shared/software/miniconda/envs/python-3.7/lib/python3.7/site-packages/sklearn/linear_model/_coordinate_descent.py:532: ConvergenceWarning: Objective did not converge. You might want to increase the number of iterations. Duality gap: 4.243270015498324, tolerance: 4.037147787395833\n",
      "  positive)\n",
      "/shared/software/miniconda/envs/python-3.7/lib/python3.7/site-packages/sklearn/linear_model/_coordinate_descent.py:532: ConvergenceWarning: Objective did not converge. You might want to increase the number of iterations. Duality gap: 6.496857282771969, tolerance: 5.813806200206185\n",
      "  positive)\n",
      "/shared/software/miniconda/envs/python-3.7/lib/python3.7/site-packages/sklearn/linear_model/_coordinate_descent.py:532: ConvergenceWarning: Objective did not converge. You might want to increase the number of iterations. Duality gap: 7.736530742219684, tolerance: 5.330533580824742\n",
      "  positive)\n",
      "/shared/software/miniconda/envs/python-3.7/lib/python3.7/site-packages/sklearn/linear_model/_coordinate_descent.py:532: ConvergenceWarning: Objective did not converge. You might want to increase the number of iterations. Duality gap: 7.262895281103033, tolerance: 5.543979513608248\n",
      "  positive)\n",
      "/shared/software/miniconda/envs/python-3.7/lib/python3.7/site-packages/sklearn/linear_model/_coordinate_descent.py:532: ConvergenceWarning: Objective did not converge. You might want to increase the number of iterations. Duality gap: 6.080992474276482, tolerance: 5.567002575463919\n",
      "  positive)\n",
      "/shared/software/miniconda/envs/python-3.7/lib/python3.7/site-packages/sklearn/linear_model/_coordinate_descent.py:532: ConvergenceWarning: Objective did not converge. You might want to increase the number of iterations. Duality gap: 6.098130292934513, tolerance: 5.813806200206185\n",
      "  positive)\n",
      "/shared/software/miniconda/envs/python-3.7/lib/python3.7/site-packages/sklearn/linear_model/_coordinate_descent.py:532: ConvergenceWarning: Objective did not converge. You might want to increase the number of iterations. Duality gap: 7.593060344774795, tolerance: 5.330533580824742\n",
      "  positive)\n",
      "/shared/software/miniconda/envs/python-3.7/lib/python3.7/site-packages/sklearn/linear_model/_coordinate_descent.py:532: ConvergenceWarning: Objective did not converge. You might want to increase the number of iterations. Duality gap: 6.916096382651373, tolerance: 5.543979513608248\n",
      "  positive)\n",
      "/shared/software/miniconda/envs/python-3.7/lib/python3.7/site-packages/sklearn/linear_model/_coordinate_descent.py:532: ConvergenceWarning: Objective did not converge. You might want to increase the number of iterations. Duality gap: 6.023520958556409, tolerance: 5.567002575463919\n",
      "  positive)\n",
      "/shared/software/miniconda/envs/python-3.7/lib/python3.7/site-packages/sklearn/linear_model/_coordinate_descent.py:532: ConvergenceWarning: Objective did not converge. You might want to increase the number of iterations. Duality gap: 7.340797336644332, tolerance: 5.330533580824742\n",
      "  positive)\n",
      "/shared/software/miniconda/envs/python-3.7/lib/python3.7/site-packages/sklearn/linear_model/_coordinate_descent.py:532: ConvergenceWarning: Objective did not converge. You might want to increase the number of iterations. Duality gap: 6.7202430417472625, tolerance: 5.543979513608248\n",
      "  positive)\n",
      "/shared/software/miniconda/envs/python-3.7/lib/python3.7/site-packages/sklearn/linear_model/_coordinate_descent.py:532: ConvergenceWarning: Objective did not converge. You might want to increase the number of iterations. Duality gap: 5.973096338466272, tolerance: 5.567002575463919\n",
      "  positive)\n",
      "/shared/software/miniconda/envs/python-3.7/lib/python3.7/site-packages/sklearn/linear_model/_coordinate_descent.py:532: ConvergenceWarning: Objective did not converge. You might want to increase the number of iterations. Duality gap: 6.929796271768985, tolerance: 5.330533580824742\n",
      "  positive)\n",
      "/shared/software/miniconda/envs/python-3.7/lib/python3.7/site-packages/sklearn/linear_model/_coordinate_descent.py:532: ConvergenceWarning: Objective did not converge. You might want to increase the number of iterations. Duality gap: 6.453472031422155, tolerance: 5.543979513608248\n",
      "  positive)\n",
      "/shared/software/miniconda/envs/python-3.7/lib/python3.7/site-packages/sklearn/linear_model/_coordinate_descent.py:532: ConvergenceWarning: Objective did not converge. You might want to increase the number of iterations. Duality gap: 5.740825363335744, tolerance: 5.567002575463919\n",
      "  positive)\n",
      "/shared/software/miniconda/envs/python-3.7/lib/python3.7/site-packages/sklearn/linear_model/_coordinate_descent.py:532: ConvergenceWarning: Objective did not converge. You might want to increase the number of iterations. Duality gap: 6.713309179480115, tolerance: 5.330533580824742\n",
      "  positive)\n",
      "/shared/software/miniconda/envs/python-3.7/lib/python3.7/site-packages/sklearn/linear_model/_coordinate_descent.py:532: ConvergenceWarning: Objective did not converge. You might want to increase the number of iterations. Duality gap: 6.237855678919483, tolerance: 5.543979513608248\n",
      "  positive)\n",
      "/shared/software/miniconda/envs/python-3.7/lib/python3.7/site-packages/sklearn/linear_model/_coordinate_descent.py:532: ConvergenceWarning: Objective did not converge. You might want to increase the number of iterations. Duality gap: 6.5771934190626355, tolerance: 5.330533580824742\n",
      "  positive)\n",
      "/shared/software/miniconda/envs/python-3.7/lib/python3.7/site-packages/sklearn/linear_model/_coordinate_descent.py:532: ConvergenceWarning: Objective did not converge. You might want to increase the number of iterations. Duality gap: 5.710742687578448, tolerance: 5.543979513608248\n",
      "  positive)\n",
      "/shared/software/miniconda/envs/python-3.7/lib/python3.7/site-packages/sklearn/linear_model/_coordinate_descent.py:532: ConvergenceWarning: Objective did not converge. You might want to increase the number of iterations. Duality gap: 6.096524595822065, tolerance: 5.330533580824742\n",
      "  positive)\n",
      "/shared/software/miniconda/envs/python-3.7/lib/python3.7/site-packages/sklearn/linear_model/_coordinate_descent.py:532: ConvergenceWarning: Objective did not converge. You might want to increase the number of iterations. Duality gap: 5.709278652877749, tolerance: 5.330533580824742\n",
      "  positive)\n",
      "/shared/software/miniconda/envs/python-3.7/lib/python3.7/site-packages/sklearn/linear_model/_coordinate_descent.py:532: ConvergenceWarning: Objective did not converge. You might want to increase the number of iterations. Duality gap: 5.462497585373075, tolerance: 5.330533580824742\n",
      "  positive)\n",
      "/shared/software/miniconda/envs/python-3.7/lib/python3.7/site-packages/sklearn/linear_model/_coordinate_descent.py:532: ConvergenceWarning: Objective did not converge. You might want to increase the number of iterations. Duality gap: 4.6815113130166255, tolerance: 4.037147787395833\n",
      "  positive)\n",
      "/shared/software/miniconda/envs/python-3.7/lib/python3.7/site-packages/sklearn/linear_model/_coordinate_descent.py:532: ConvergenceWarning: Objective did not converge. You might want to increase the number of iterations. Duality gap: 10.393116262277534, tolerance: 5.813806200206185\n",
      "  positive)\n",
      "/shared/software/miniconda/envs/python-3.7/lib/python3.7/site-packages/sklearn/linear_model/_coordinate_descent.py:532: ConvergenceWarning: Objective did not converge. You might want to increase the number of iterations. Duality gap: 10.216347937073271, tolerance: 5.330533580824742\n",
      "  positive)\n",
      "/shared/software/miniconda/envs/python-3.7/lib/python3.7/site-packages/sklearn/linear_model/_coordinate_descent.py:532: ConvergenceWarning: Objective did not converge. You might want to increase the number of iterations. Duality gap: 11.792165341205793, tolerance: 5.543979513608248\n",
      "  positive)\n",
      "/shared/software/miniconda/envs/python-3.7/lib/python3.7/site-packages/sklearn/linear_model/_coordinate_descent.py:532: ConvergenceWarning: Objective did not converge. You might want to increase the number of iterations. Duality gap: 8.429487288653721, tolerance: 5.567002575463919\n",
      "  positive)\n",
      "/shared/software/miniconda/envs/python-3.7/lib/python3.7/site-packages/sklearn/linear_model/_coordinate_descent.py:532: ConvergenceWarning: Objective did not converge. You might want to increase the number of iterations. Duality gap: 4.432701064652275, tolerance: 4.037147787395833\n",
      "  positive)\n",
      "/shared/software/miniconda/envs/python-3.7/lib/python3.7/site-packages/sklearn/linear_model/_coordinate_descent.py:532: ConvergenceWarning: Objective did not converge. You might want to increase the number of iterations. Duality gap: 9.318534438912724, tolerance: 5.813806200206185\n",
      "  positive)\n",
      "/shared/software/miniconda/envs/python-3.7/lib/python3.7/site-packages/sklearn/linear_model/_coordinate_descent.py:532: ConvergenceWarning: Objective did not converge. You might want to increase the number of iterations. Duality gap: 9.845276582921123, tolerance: 5.330533580824742\n",
      "  positive)\n",
      "/shared/software/miniconda/envs/python-3.7/lib/python3.7/site-packages/sklearn/linear_model/_coordinate_descent.py:532: ConvergenceWarning: Objective did not converge. You might want to increase the number of iterations. Duality gap: 11.422336695234609, tolerance: 5.543979513608248\n",
      "  positive)\n",
      "/shared/software/miniconda/envs/python-3.7/lib/python3.7/site-packages/sklearn/linear_model/_coordinate_descent.py:532: ConvergenceWarning: Objective did not converge. You might want to increase the number of iterations. Duality gap: 7.012368081032637, tolerance: 5.567002575463919\n",
      "  positive)\n",
      "/shared/software/miniconda/envs/python-3.7/lib/python3.7/site-packages/sklearn/linear_model/_coordinate_descent.py:532: ConvergenceWarning: Objective did not converge. You might want to increase the number of iterations. Duality gap: 4.071097434395274, tolerance: 4.037147787395833\n",
      "  positive)\n",
      "/shared/software/miniconda/envs/python-3.7/lib/python3.7/site-packages/sklearn/linear_model/_coordinate_descent.py:532: ConvergenceWarning: Objective did not converge. You might want to increase the number of iterations. Duality gap: 9.055819349778789, tolerance: 5.813806200206185\n",
      "  positive)\n",
      "/shared/software/miniconda/envs/python-3.7/lib/python3.7/site-packages/sklearn/linear_model/_coordinate_descent.py:532: ConvergenceWarning: Objective did not converge. You might want to increase the number of iterations. Duality gap: 9.36641410432073, tolerance: 5.330533580824742\n",
      "  positive)\n",
      "/shared/software/miniconda/envs/python-3.7/lib/python3.7/site-packages/sklearn/linear_model/_coordinate_descent.py:532: ConvergenceWarning: Objective did not converge. You might want to increase the number of iterations. Duality gap: 11.071680466863798, tolerance: 5.543979513608248\n",
      "  positive)\n",
      "/shared/software/miniconda/envs/python-3.7/lib/python3.7/site-packages/sklearn/linear_model/_coordinate_descent.py:532: ConvergenceWarning: Objective did not converge. You might want to increase the number of iterations. Duality gap: 6.29558048360636, tolerance: 5.567002575463919\n",
      "  positive)\n",
      "/shared/software/miniconda/envs/python-3.7/lib/python3.7/site-packages/sklearn/linear_model/_coordinate_descent.py:532: ConvergenceWarning: Objective did not converge. You might want to increase the number of iterations. Duality gap: 8.619259535510809, tolerance: 5.813806200206185\n",
      "  positive)\n",
      "/shared/software/miniconda/envs/python-3.7/lib/python3.7/site-packages/sklearn/linear_model/_coordinate_descent.py:532: ConvergenceWarning: Objective did not converge. You might want to increase the number of iterations. Duality gap: 8.960427601350384, tolerance: 5.330533580824742\n",
      "  positive)\n",
      "/shared/software/miniconda/envs/python-3.7/lib/python3.7/site-packages/sklearn/linear_model/_coordinate_descent.py:532: ConvergenceWarning: Objective did not converge. You might want to increase the number of iterations. Duality gap: 11.061430446743147, tolerance: 5.543979513608248\n",
      "  positive)\n",
      "/shared/software/miniconda/envs/python-3.7/lib/python3.7/site-packages/sklearn/linear_model/_coordinate_descent.py:532: ConvergenceWarning: Objective did not converge. You might want to increase the number of iterations. Duality gap: 5.5924259177795586, tolerance: 5.567002575463919\n",
      "  positive)\n",
      "/shared/software/miniconda/envs/python-3.7/lib/python3.7/site-packages/sklearn/linear_model/_coordinate_descent.py:532: ConvergenceWarning: Objective did not converge. You might want to increase the number of iterations. Duality gap: 7.174247250754739, tolerance: 5.813806200206185\n",
      "  positive)\n",
      "/shared/software/miniconda/envs/python-3.7/lib/python3.7/site-packages/sklearn/linear_model/_coordinate_descent.py:532: ConvergenceWarning: Objective did not converge. You might want to increase the number of iterations. Duality gap: 8.342610574235056, tolerance: 5.330533580824742\n",
      "  positive)\n",
      "/shared/software/miniconda/envs/python-3.7/lib/python3.7/site-packages/sklearn/linear_model/_coordinate_descent.py:532: ConvergenceWarning: Objective did not converge. You might want to increase the number of iterations. Duality gap: 11.061164625315065, tolerance: 5.543979513608248\n",
      "  positive)\n",
      "/shared/software/miniconda/envs/python-3.7/lib/python3.7/site-packages/sklearn/linear_model/_coordinate_descent.py:532: ConvergenceWarning: Objective did not converge. You might want to increase the number of iterations. Duality gap: 6.755157398932593, tolerance: 5.813806200206185\n",
      "  positive)\n",
      "/shared/software/miniconda/envs/python-3.7/lib/python3.7/site-packages/sklearn/linear_model/_coordinate_descent.py:532: ConvergenceWarning: Objective did not converge. You might want to increase the number of iterations. Duality gap: 7.572253633486281, tolerance: 5.330533580824742\n",
      "  positive)\n",
      "/shared/software/miniconda/envs/python-3.7/lib/python3.7/site-packages/sklearn/linear_model/_coordinate_descent.py:532: ConvergenceWarning: Objective did not converge. You might want to increase the number of iterations. Duality gap: 10.525813286607978, tolerance: 5.543979513608248\n",
      "  positive)\n",
      "/shared/software/miniconda/envs/python-3.7/lib/python3.7/site-packages/sklearn/linear_model/_coordinate_descent.py:532: ConvergenceWarning: Objective did not converge. You might want to increase the number of iterations. Duality gap: 6.330748094279449, tolerance: 5.813806200206185\n",
      "  positive)\n",
      "/shared/software/miniconda/envs/python-3.7/lib/python3.7/site-packages/sklearn/linear_model/_coordinate_descent.py:532: ConvergenceWarning: Objective did not converge. You might want to increase the number of iterations. Duality gap: 6.758086161035197, tolerance: 5.330533580824742\n",
      "  positive)\n",
      "/shared/software/miniconda/envs/python-3.7/lib/python3.7/site-packages/sklearn/linear_model/_coordinate_descent.py:532: ConvergenceWarning: Objective did not converge. You might want to increase the number of iterations. Duality gap: 9.361536464748713, tolerance: 5.543979513608248\n",
      "  positive)\n",
      "/shared/software/miniconda/envs/python-3.7/lib/python3.7/site-packages/sklearn/linear_model/_coordinate_descent.py:532: ConvergenceWarning: Objective did not converge. You might want to increase the number of iterations. Duality gap: 5.504518411271257, tolerance: 5.330533580824742\n",
      "  positive)\n",
      "/shared/software/miniconda/envs/python-3.7/lib/python3.7/site-packages/sklearn/linear_model/_coordinate_descent.py:532: ConvergenceWarning: Objective did not converge. You might want to increase the number of iterations. Duality gap: 8.079073196501714, tolerance: 5.543979513608248\n",
      "  positive)\n",
      "/shared/software/miniconda/envs/python-3.7/lib/python3.7/site-packages/sklearn/linear_model/_coordinate_descent.py:532: ConvergenceWarning: Objective did not converge. You might want to increase the number of iterations. Duality gap: 6.169551411754137, tolerance: 5.543979513608248\n",
      "  positive)\n",
      "/shared/software/miniconda/envs/python-3.7/lib/python3.7/site-packages/sklearn/linear_model/_coordinate_descent.py:532: ConvergenceWarning: Objective did not converge. You might want to increase the number of iterations. Duality gap: 8.303417123722461, tolerance: 5.813806200206185\n",
      "  positive)\n",
      "/shared/software/miniconda/envs/python-3.7/lib/python3.7/site-packages/sklearn/linear_model/_coordinate_descent.py:532: ConvergenceWarning: Objective did not converge. You might want to increase the number of iterations. Duality gap: 8.127817803686986, tolerance: 5.330533580824742\n",
      "  positive)\n",
      "/shared/software/miniconda/envs/python-3.7/lib/python3.7/site-packages/sklearn/linear_model/_coordinate_descent.py:532: ConvergenceWarning: Objective did not converge. You might want to increase the number of iterations. Duality gap: 16.132039669621406, tolerance: 5.543979513608248\n",
      "  positive)\n",
      "/shared/software/miniconda/envs/python-3.7/lib/python3.7/site-packages/sklearn/linear_model/_coordinate_descent.py:532: ConvergenceWarning: Objective did not converge. You might want to increase the number of iterations. Duality gap: 9.981099338532923, tolerance: 5.567002575463919\n",
      "  positive)\n",
      "/shared/software/miniconda/envs/python-3.7/lib/python3.7/site-packages/sklearn/linear_model/_coordinate_descent.py:532: ConvergenceWarning: Objective did not converge. You might want to increase the number of iterations. Duality gap: 7.589302932019483, tolerance: 5.813806200206185\n",
      "  positive)\n",
      "/shared/software/miniconda/envs/python-3.7/lib/python3.7/site-packages/sklearn/linear_model/_coordinate_descent.py:532: ConvergenceWarning: Objective did not converge. You might want to increase the number of iterations. Duality gap: 5.789756866547366, tolerance: 5.330533580824742\n",
      "  positive)\n",
      "/shared/software/miniconda/envs/python-3.7/lib/python3.7/site-packages/sklearn/linear_model/_coordinate_descent.py:532: ConvergenceWarning: Objective did not converge. You might want to increase the number of iterations. Duality gap: 13.529214927945286, tolerance: 5.543979513608248\n",
      "  positive)\n",
      "/shared/software/miniconda/envs/python-3.7/lib/python3.7/site-packages/sklearn/linear_model/_coordinate_descent.py:532: ConvergenceWarning: Objective did not converge. You might want to increase the number of iterations. Duality gap: 7.576617057954269, tolerance: 5.567002575463919\n",
      "  positive)\n",
      "/shared/software/miniconda/envs/python-3.7/lib/python3.7/site-packages/sklearn/linear_model/_coordinate_descent.py:532: ConvergenceWarning: Objective did not converge. You might want to increase the number of iterations. Duality gap: 7.767978106212694, tolerance: 5.813806200206185\n",
      "  positive)\n",
      "/shared/software/miniconda/envs/python-3.7/lib/python3.7/site-packages/sklearn/linear_model/_coordinate_descent.py:532: ConvergenceWarning: Objective did not converge. You might want to increase the number of iterations. Duality gap: 11.986509808156654, tolerance: 5.543979513608248\n",
      "  positive)\n",
      "/shared/software/miniconda/envs/python-3.7/lib/python3.7/site-packages/sklearn/linear_model/_coordinate_descent.py:532: ConvergenceWarning: Objective did not converge. You might want to increase the number of iterations. Duality gap: 5.8071244721893684, tolerance: 5.567002575463919\n",
      "  positive)\n",
      "/shared/software/miniconda/envs/python-3.7/lib/python3.7/site-packages/sklearn/linear_model/_coordinate_descent.py:532: ConvergenceWarning: Objective did not converge. You might want to increase the number of iterations. Duality gap: 6.723084528675931, tolerance: 5.813806200206185\n",
      "  positive)\n",
      "/shared/software/miniconda/envs/python-3.7/lib/python3.7/site-packages/sklearn/linear_model/_coordinate_descent.py:532: ConvergenceWarning: Objective did not converge. You might want to increase the number of iterations. Duality gap: 10.467298926148594, tolerance: 5.543979513608248\n",
      "  positive)\n",
      "/shared/software/miniconda/envs/python-3.7/lib/python3.7/site-packages/sklearn/linear_model/_coordinate_descent.py:532: ConvergenceWarning: Objective did not converge. You might want to increase the number of iterations. Duality gap: 5.912016882670763, tolerance: 5.813806200206185\n",
      "  positive)\n",
      "/shared/software/miniconda/envs/python-3.7/lib/python3.7/site-packages/sklearn/linear_model/_coordinate_descent.py:532: ConvergenceWarning: Objective did not converge. You might want to increase the number of iterations. Duality gap: 10.100715784939533, tolerance: 5.543979513608248\n",
      "  positive)\n",
      "/shared/software/miniconda/envs/python-3.7/lib/python3.7/site-packages/sklearn/linear_model/_coordinate_descent.py:532: ConvergenceWarning: Objective did not converge. You might want to increase the number of iterations. Duality gap: 10.75284566376854, tolerance: 5.543979513608248\n",
      "  positive)\n",
      "/shared/software/miniconda/envs/python-3.7/lib/python3.7/site-packages/sklearn/linear_model/_coordinate_descent.py:532: ConvergenceWarning: Objective did not converge. You might want to increase the number of iterations. Duality gap: 9.910855277678465, tolerance: 5.543979513608248\n",
      "  positive)\n",
      "/shared/software/miniconda/envs/python-3.7/lib/python3.7/site-packages/sklearn/linear_model/_coordinate_descent.py:532: ConvergenceWarning: Objective did not converge. You might want to increase the number of iterations. Duality gap: 7.930766589608079, tolerance: 6.595111715371901\n",
      "  positive)\n"
     ]
    },
    {
     "data": {
      "text/plain": [
       "GridSearchCV(estimator=ElasticNet(max_iter=6000),\n",
       "             param_grid={'alpha': array([1.00000000e-04, 2.27584593e-04, 5.17947468e-04, 1.17876863e-03,\n",
       "       2.68269580e-03, 6.10540230e-03, 1.38949549e-02, 3.16227766e-02,\n",
       "       7.19685673e-02, 1.63789371e-01, 3.72759372e-01, 8.48342898e-01,\n",
       "       1.93069773e+00, 4.39397056e+00, 1.00000000e+01]),\n",
       "                         'l1_ratio': array([0.5       , 0.53571429, 0.57142857, 0.60714286, 0.64285714,\n",
       "       0.67857143, 0.71428571, 0.75      , 0.78571429, 0.82142857,\n",
       "       0.85714286, 0.89285714, 0.92857143, 0.96428571, 1.        ])},\n",
       "             scoring='explained_variance')"
      ]
     },
     "execution_count": 21,
     "metadata": {},
     "output_type": "execute_result"
    }
   ],
   "source": [
    "# Answer:\n",
    "enet = linear_model.ElasticNet(fit_intercept = True, max_iter = 6000)\n",
    "model_l1l2 = model_selection.GridSearchCV(enet, \n",
    "                                        param_grid = {'alpha': alphas, 'l1_ratio': ratios}, \n",
    "                                        scoring = 'explained_variance')\n",
    "model_l1l2.fit(X_2W_tr, y_2W_tr)"
   ]
  },
  {
   "cell_type": "code",
   "execution_count": 22,
   "metadata": {},
   "outputs": [],
   "source": [
    "# Option 2: using function ElasticNetCV\n",
    "model_l1l2_2 = linear_model.ElasticNetCV(l1_ratio = ratios, fit_intercept = True, max_iter = 6000).fit(X_2W_tr, y_2W_tr)"
   ]
  },
  {
   "cell_type": "code",
   "execution_count": 23,
   "metadata": {},
   "outputs": [
    {
     "ename": "AttributeError",
     "evalue": "'GridSearchCV' object has no attribute 'coef_'",
     "output_type": "error",
     "traceback": [
      "\u001b[0;31m---------------------------------------------------------------------------\u001b[0m",
      "\u001b[0;31mAttributeError\u001b[0m                            Traceback (most recent call last)",
      "\u001b[0;32m<ipython-input-23-8370616f82b7>\u001b[0m in \u001b[0;36m<module>\u001b[0;34m\u001b[0m\n\u001b[1;32m      1\u001b[0m \u001b[0mplt\u001b[0m\u001b[0;34m.\u001b[0m\u001b[0mfigure\u001b[0m\u001b[0;34m(\u001b[0m\u001b[0mfigsize\u001b[0m \u001b[0;34m=\u001b[0m \u001b[0;34m(\u001b[0m\u001b[0;36m6\u001b[0m\u001b[0;34m,\u001b[0m \u001b[0;36m4\u001b[0m\u001b[0;34m)\u001b[0m\u001b[0;34m)\u001b[0m\u001b[0;34m\u001b[0m\u001b[0;34m\u001b[0m\u001b[0m\n\u001b[1;32m      2\u001b[0m plt.scatter(range(p), # x = SNP position\n\u001b[0;32m----> 3\u001b[0;31m             model_l1l2.coef_)  # y = regression weights\n\u001b[0m\u001b[1;32m      4\u001b[0m \u001b[0;34m\u001b[0m\u001b[0m\n\u001b[1;32m      5\u001b[0m \u001b[0mplt\u001b[0m\u001b[0;34m.\u001b[0m\u001b[0mxlabel\u001b[0m\u001b[0;34m(\u001b[0m\u001b[0;34m\"SNP\"\u001b[0m\u001b[0;34m)\u001b[0m\u001b[0;34m\u001b[0m\u001b[0;34m\u001b[0m\u001b[0m\n",
      "\u001b[0;31mAttributeError\u001b[0m: 'GridSearchCV' object has no attribute 'coef_'"
     ]
    },
    {
     "data": {
      "text/plain": [
       "<Figure size 432x288 with 0 Axes>"
      ]
     },
     "metadata": {},
     "output_type": "display_data"
    }
   ],
   "source": [
    "plt.figure(figsize = (6, 4))\n",
    "plt.scatter(range(p), # x = SNP position\n",
    "            model_l1l2.coef_)  # y = regression weights\n",
    "\n",
    "plt.xlabel(\"SNP\")\n",
    "plt.ylabel(\"elastic net regression weight\")\n",
    "plt.xlim([0, p])"
   ]
  },
  {
   "cell_type": "code",
   "execution_count": null,
   "metadata": {},
   "outputs": [],
   "source": [
    "print(\"%d SNPs selected,\" % \\\n",
    "    np.nonzero(model_l1l2.coef_)[0].shape)\n",
    "\n",
    "candidate_genes_hit = set([])\n",
    "num_snps_in_candidate_genes = 0\n",
    "for snp_idx in np.nonzero(model_l1l2.coef_)[0]:\n",
    "    for gene_id in genes_by_snp[snp_names[snp_idx]]:\n",
    "        if gene_id in candidate_genes:\n",
    "            candidate_genes_hit.add(gene_id)\n",
    "            num_snps_in_candidate_genes += 1\n",
    "\n",
    "print(\"of which %d are in %d candidate genes\" % (num_snps_in_candidate_genes, \n",
    "                                                          len(candidate_genes_hit)))"
   ]
  },
  {
   "cell_type": "markdown",
   "metadata": {},
   "source": [
    "__Q: How can you interpret these results? How many SNPs contribute to explaining the phenotype?__"
   ]
  },
  {
   "cell_type": "markdown",
   "metadata": {},
   "source": [
    "__A:__ 441 SNPs are selected. This is more than twice as much as the lasso, which highlights that the elastic-net will favor shrinking correlated variables instead of selected out all but one (this is called the *grouping effect*)."
   ]
  },
  {
   "cell_type": "markdown",
   "metadata": {},
   "source": [
    "### Predictive power "
   ]
  },
  {
   "cell_type": "code",
   "execution_count": 3,
   "metadata": {},
   "outputs": [],
   "source": [
    "from sklearn import metrics"
   ]
  },
  {
   "cell_type": "code",
   "execution_count": null,
   "metadata": {},
   "outputs": [],
   "source": [
    "y_2W_l1l2_pred = model_l1l2.predict(X_2W_te)\n",
    "\n",
    "print(\"Percentage of variance explained (using %d SNPs): %.2f\" % \\\n",
    "     (np.nonzero(model_l1l2.coef_)[0].shape[0], \n",
    "      metrics.explained_variance_score(y_2W_te, y_2W_l1l2_pred)))"
   ]
  },
  {
   "cell_type": "code",
   "execution_count": null,
   "metadata": {},
   "outputs": [],
   "source": [
    "plt.figure(figsize = (4, 4))\n",
    "plt.scatter(y_2W_te, y_2W_l1l2_pred)\n",
    "\n",
    "plt.xlabel(\"true phenotype\")\n",
    "plt.ylabel(\"prediction\")\n",
    "plt.xlim([np.min(y_2W_te) - 0.05, np.max(y_2W_te) + 0.05])\n",
    "plt.ylim([np.min(y_2W_te) - 0.05, np.max(y_2W_te) + 0.05])\n",
    "plt.axline(xy1 = [0, 0], slope = 1, c = \"black\")"
   ]
  },
  {
   "cell_type": "markdown",
   "metadata": {},
   "source": [
    "## Multi-task feature selection"
   ]
  },
  {
   "cell_type": "markdown",
   "metadata": {},
   "source": [
    "1) Repeat the previous analysis for the 4W phenotype. It is very similar to the 2W phenotype, except that the seeds have been vernelized for 4 weeks. \n",
    "\n",
    "2) It is not unreasonable to expect the genomic regions driving both those phenotypes to be (almost) the same. Use the multi-task version of the Lasso, ENet, or ncLasso algorithms to analyzed both phenotypes simultaneously.\n",
    "\n",
    "Use [sklearn.linear_model.MultiTaskLasso](http://scikit-learn.org/stable/modules/generated/sklearn.linear_model.MultiTaskLasso.html#sklearn.linear_model.MultiTaskLasso) + [User Guide](http://scikit-learn.org/stable/auto_examples/linear_model/plot_multi_task_lasso_support.html)\n",
    "\n",
    "3) __Q: Is it the same \"multi-task\" setting as the one in the lecture? What is the difference?__"
   ]
  },
  {
   "cell_type": "markdown",
   "metadata": {},
   "source": [
    "__A:__ In the \"real\" multi-task setting (Obozinski et al., *Multi-task feature selection*, 2006), there are one design matrix and one output for each task. Here, however, the design matrix is the same for both tasks: we use the same genomic data -- the \"individuals\" are the same --, and only the phenotypes differs.\n",
    "\n",
    "Consequently, this setting is more restrictive than Obozinski's multi-task lasso."
   ]
  },
  {
   "cell_type": "markdown",
   "metadata": {},
   "source": [
    "### Load 4W and 2W phenotypes"
   ]
  },
  {
   "cell_type": "code",
   "execution_count": null,
   "metadata": {},
   "outputs": [],
   "source": [
    "X_2W = X[np.array([samples.index(sample_id) \\\n",
    "                   for sample_id in samples_with_phenotype]), :]"
   ]
  },
  {
   "cell_type": "code",
   "execution_count": null,
   "metadata": {},
   "outputs": [],
   "source": [
    "df_2W = pd.read_csv('data/athaliana.2W.pheno', # file name\n",
    "                 header = None, # columns have no header\n",
    "                 delim_whitespace = True) # columns are separated by white space\n",
    "\n",
    "# Create vector of sample IDs\n",
    "samples_with_phenotype_2W = list(df[0])\n",
    "print(len(samples_with_phenotype_2W), \"samples have a phenotype\")\n",
    "\n",
    "# Create vector of phenotypes\n",
    "y_2W = np.array(df_2W[1])"
   ]
  },
  {
   "cell_type": "code",
   "execution_count": null,
   "metadata": {},
   "outputs": [],
   "source": [
    "X = np.loadtxt('data/athaliana_small.X.txt',  # file names\n",
    "               dtype = 'int') # values are integers"
   ]
  },
  {
   "cell_type": "code",
   "execution_count": null,
   "metadata": {},
   "outputs": [],
   "source": [
    "df_4W = pd.read_csv('data/athaliana.4W.pheno', # file name\n",
    "                 header = None, # columns have no header\n",
    "                 delim_whitespace = True) # columns are separated by white space\n",
    "\n",
    "# Create vector of sample IDs\n",
    "samples_with_phenotype_4W = list(df_4W[0])\n",
    "print(len(samples_with_phenotype_4W), \"samples have a 4W phenotype\")\n",
    "\n",
    "# Create vector of phenotypes\n",
    "y_4W = np.array(df_4W[1])"
   ]
  },
  {
   "cell_type": "code",
   "execution_count": null,
   "metadata": {},
   "outputs": [],
   "source": [
    "X_4W = X[np.array([samples.index(sample_id) \\\n",
    "                   for sample_id in samples_with_phenotype_4W]), :]"
   ]
  },
  {
   "cell_type": "code",
   "execution_count": null,
   "metadata": {},
   "outputs": [],
   "source": [
    "X_4W_tr, X_4W_te, y_4W_tr, y_4W_te = \\\n",
    "    model_selection.train_test_split(X_4W, y_4W, test_size = 0.2, random_state = 17)\n",
    "print(X_4W_tr.shape, X_4W_te.shape)"
   ]
  },
  {
   "cell_type": "markdown",
   "metadata": {},
   "source": [
    "### Preliminary analysis\n",
    "__Q: Why would we expect the 2W and 4W phenotypes to share many explanatory SNPs? How could you verify this using Manhattan plots?__"
   ]
  },
  {
   "cell_type": "code",
   "execution_count": null,
   "metadata": {},
   "outputs": [],
   "source": [
    "# Answer:\n",
    "import statsmodels.api as sm\n",
    "## Compute p-values for both 2W and 4W\n",
    "pvalues_2W = []\n",
    "pvalues_4W = []\n",
    "for snp_idx in range(p):\n",
    "    ## 2W\n",
    "    X_snp_2W = sm.add_constant(X_2W_tr[:, snp_idx])\n",
    "    est_2W = sm.regression.linear_model.OLS(y_2W_tr, X_snp_2W).fit()\n",
    "    pvalues_2W.append(est_2W.pvalues[1])\n",
    "    ## 4W\n",
    "    X_snp_4W = sm.add_constant(X_4W_tr[:, snp_idx])\n",
    "    est_4W = sm.regression.linear_model.OLS(y_4W_tr, X_snp_4W).fit()\n",
    "    pvalues_4W.append(est_4W.pvalues[1])\n",
    "pvalues_2W = np.array(pvalues_2W)\n",
    "pvalues_4W = np.array(pvalues_4W)\n",
    "\n",
    "## Overlay both Manhattan plots \n",
    "figure(figsize = (15, 4))\n",
    "\n",
    "plt.scatter(range(p), -np.log10(pvalues_2W), alpha = 0.6, s = 5)\n",
    "t = -np.log10(0.05 / p)\n",
    "plt.plot([0, p], [t, t], c = \"black\")\n",
    "plt.xlabel(\"feature\")\n",
    "plt.ylabel(\"-log10 p-value\")\n",
    "plt.xlim([0, p])\n",
    "\n",
    "plt.scatter(range(p), np.log10(pvalues_4W), alpha = 0.6, s = 5)\n",
    "plt.plot([0, p], [-t, -t], c = \"black\")\n",
    "\n",
    "plt.xlabel(\"feature\")\n",
    "plt.ylabel(\"-log10 p-value\")\n",
    "plt.xlim([0, p])"
   ]
  },
  {
   "cell_type": "markdown",
   "metadata": {},
   "source": [
    "Another possible visualization is to plot both pvalues ax xy-coordinates:"
   ]
  },
  {
   "cell_type": "code",
   "execution_count": null,
   "metadata": {},
   "outputs": [],
   "source": [
    "figure(figsize = (5, 5))\n",
    "plt.scatter(-np.log10(pvalues_2W), -np.log10(pvalues_4W))\n",
    "plt.xlabel('2W'); plt.ylabel('4W')"
   ]
  },
  {
   "cell_type": "markdown",
   "metadata": {},
   "source": [
    "Most SNPs are in the upper-low left corner (low p-values for both phenotypes). But there is a number of SNPs with both large 4W-pvalues and 2W-pvalues, which shows that the two pvalues are correlated. Moreover, there are no SNPs with a high pvalue for one phenotype and a small pvalue for the other."
   ]
  },
  {
   "cell_type": "markdown",
   "metadata": {},
   "source": [
    "__Q: What conclusion can you draw? Do the 2W and 4W phenotypes seem to be linked to the same genome loci?__"
   ]
  },
  {
   "cell_type": "markdown",
   "metadata": {},
   "source": [
    "__A:__ Comparison of the two pvalues indicates that the two phenotypes must be explained but the same set of SNPs (or at least, there is a large intersection between the two sets). This justifies using a multi-task setting."
   ]
  },
  {
   "cell_type": "markdown",
   "metadata": {},
   "source": [
    "### Define design matrix"
   ]
  },
  {
   "cell_type": "markdown",
   "metadata": {},
   "source": [
    "Sample with *both* 2W and 4W phenotypes."
   ]
  },
  {
   "cell_type": "code",
   "execution_count": null,
   "metadata": {},
   "outputs": [],
   "source": [
    "samples_with_phenotype_both = list(set(samples_with_phenotype_2W).intersection(samples_with_phenotype_4W))\n",
    "print(len(samples_with_phenotype_both), \"samples have both phenotypes\")"
   ]
  },
  {
   "cell_type": "code",
   "execution_count": null,
   "metadata": {},
   "outputs": [],
   "source": [
    "X_both = X[np.array([samples.index(sample_id) for sample_id in samples_with_phenotype_both]), :]\n",
    "del X # You can delete X now if you want, to free space"
   ]
  },
  {
   "cell_type": "markdown",
   "metadata": {},
   "source": [
    "Filter, order, and merge the two phenotype data frames"
   ]
  },
  {
   "cell_type": "code",
   "execution_count": null,
   "metadata": {},
   "outputs": [],
   "source": [
    "## Filter out the samples that do not have both phenotypes\n",
    "df_4W_filtered = df_4W[df_4W[0].isin(samples_with_phenotype_both)]\n",
    "df_2W_filtered = df_2W[df_2W[0].isin(samples_with_phenotype_both)]\n",
    "## Set sample names as the DataFrame index name\n",
    "df_2W_filtered.index = list(df_2W_filtered[0])\n",
    "df_4W_filtered.index = list(df_4W_filtered[0])\n",
    "## Reorder both datasets so as to have the phenotypes in the same order\n",
    "df_2W_ordered = df_2W_filtered.reindex(samples_with_phenotype_both)\n",
    "df_4W_ordered = df_4W_filtered.reindex(samples_with_phenotype_both)\n",
    "## Define the phenotype matrix\n",
    "y_both = np.array([df_2W_ordered[1], df_4W_ordered[1]]).T"
   ]
  },
  {
   "cell_type": "markdown",
   "metadata": {},
   "source": [
    "Split in train and test sets"
   ]
  },
  {
   "cell_type": "code",
   "execution_count": null,
   "metadata": {},
   "outputs": [],
   "source": [
    "X_both_tr, X_both_te, y_both_tr, y_both_te = \\\n",
    "    model_selection.train_test_split(X_both, y_both, test_size = 0.2, random_state = 19)"
   ]
  },
  {
   "cell_type": "code",
   "execution_count": null,
   "metadata": {},
   "outputs": [],
   "source": [
    "print(y_both.shape, y_both_tr.shape, y_both_te.shape)\n",
    "print(X_both.shape, X_both_tr.shape, X_both_te.shape)"
   ]
  },
  {
   "cell_type": "markdown",
   "metadata": {},
   "source": [
    "### Run Multi-task lasso"
   ]
  },
  {
   "cell_type": "code",
   "execution_count": null,
   "metadata": {},
   "outputs": [],
   "source": [
    "from sklearn import linear_model, metrics"
   ]
  },
  {
   "cell_type": "markdown",
   "metadata": {},
   "source": [
    "__Q:__ Run MultiTaskLasso (and call the object `model_mt_l1`)."
   ]
  },
  {
   "cell_type": "code",
   "execution_count": 1,
   "metadata": {
    "collapsed": true
   },
   "outputs": [
    {
     "ename": "NameError",
     "evalue": "name 'np' is not defined",
     "output_type": "error",
     "traceback": [
      "\u001b[0;31m---------------------------------------------------------------------------\u001b[0m",
      "\u001b[0;31mNameError\u001b[0m                                 Traceback (most recent call last)",
      "\u001b[0;32m<ipython-input-1-67ffd196ee8a>\u001b[0m in \u001b[0;36m<module>\u001b[0;34m\u001b[0m\n\u001b[1;32m      1\u001b[0m \u001b[0;31m# Answer: mt_l1 = linear_model.MultiTaskLasso(fit_intercept = True, max_iter = 6000)\u001b[0m\u001b[0;34m\u001b[0m\u001b[0;34m\u001b[0m\u001b[0;34m\u001b[0m\u001b[0m\n\u001b[0;32m----> 2\u001b[0;31m \u001b[0malphas\u001b[0m \u001b[0;34m=\u001b[0m \u001b[0mnp\u001b[0m\u001b[0;34m.\u001b[0m\u001b[0mlogspace\u001b[0m\u001b[0;34m(\u001b[0m\u001b[0;34m-\u001b[0m\u001b[0;36m4.\u001b[0m\u001b[0;34m,\u001b[0m \u001b[0;36m2.\u001b[0m\u001b[0;34m,\u001b[0m \u001b[0mnum\u001b[0m \u001b[0;34m=\u001b[0m \u001b[0;36m20\u001b[0m\u001b[0;34m)\u001b[0m\u001b[0;34m\u001b[0m\u001b[0;34m\u001b[0m\u001b[0m\n\u001b[0m\u001b[1;32m      3\u001b[0m model_mt_l1 = model_selection.GridSearchCV(mt_l1,\n\u001b[1;32m      4\u001b[0m                                           \u001b[0mparam_grid\u001b[0m \u001b[0;34m=\u001b[0m \u001b[0;34m{\u001b[0m\u001b[0;34m'alpha'\u001b[0m\u001b[0;34m:\u001b[0m \u001b[0malphas\u001b[0m\u001b[0;34m}\u001b[0m\u001b[0;34m,\u001b[0m\u001b[0;34m\u001b[0m\u001b[0;34m\u001b[0m\u001b[0m\n\u001b[1;32m      5\u001b[0m                                           scoring = 'explained_variance').fit(X_both_tr, y_both_tr)\n",
      "\u001b[0;31mNameError\u001b[0m: name 'np' is not defined"
     ]
    }
   ],
   "source": [
    "# Answer: \n",
    "mt_l1 = linear_model.MultiTaskLasso(fit_intercept = True, max_iter = 6000)\n",
    "alphas = np.logspace(-4., 2., num = 20)\n",
    "model_mt_l1 = model_selection.GridSearchCV(mt_l1,\n",
    "                                          param_grid = {'alpha': alphas},\n",
    "                                          scoring = 'explained_variance').fit(X_both_tr, y_both_tr)"
   ]
  },
  {
   "cell_type": "code",
   "execution_count": null,
   "metadata": {},
   "outputs": [],
   "source": [
    "metrics.explained_variance_score(y_both_te, model_mt_l1.best_estimator_.predict(X_both_te))"
   ]
  },
  {
   "cell_type": "code",
   "execution_count": null,
   "metadata": {},
   "outputs": [],
   "source": [
    "model_mt_l1_2 = linear_model.MultiTaskLassoCV(fit_intercept = True, max_iter = 6000, \n",
    "                                              cv = 5, random_state = 18).fit(X_both_tr, y_both_tr)"
   ]
  },
  {
   "cell_type": "code",
   "execution_count": null,
   "metadata": {},
   "outputs": [],
   "source": [
    "metrics.explained_variance_score(y_both_te, model_mt_l1_2.predict(X_both_te))"
   ]
  },
  {
   "cell_type": "code",
   "execution_count": null,
   "metadata": {},
   "outputs": [],
   "source": [
    "plt.figure(figsize = (8, 5))\n",
    "#plt.spy(ml_lasso_cv.best_estimator_.coef_)\n",
    "plt.scatter(range(p), model_mt_l1.best_estimator_.coef_[0, :])\n",
    "plt.scatter(range(p), model_mt_l1.best_estimator_.coef_[1, :])"
   ]
  },
  {
   "cell_type": "markdown",
   "metadata": {},
   "source": [
    "### Predictive power"
   ]
  },
  {
   "cell_type": "code",
   "execution_count": null,
   "metadata": {},
   "outputs": [],
   "source": [
    "from sklearn import metrics"
   ]
  },
  {
   "cell_type": "code",
   "execution_count": null,
   "metadata": {},
   "outputs": [],
   "source": [
    "y_both_l1_pred = model_mt_l1.best_estimator_.predict(X_both_te)\n",
    "\n",
    "print(\"Percentage of variance explained (using %d SNPs): %.2f\" % \\\n",
    "     (np.nonzero(model_mt_l1.best_estimator_.coef_)[0].shape[0], \n",
    "      metrics.explained_variance_score(y_both_te, y_both_l1_pred)))"
   ]
  },
  {
   "cell_type": "markdown",
   "metadata": {},
   "source": [
    "### Run Multi-task elastic-net\n",
    "See the (https://scikit-learn.org/stable/modules/linear_model.html#multi-task-elastic-net)[user guide] and (API)[https://scikit-learn.org/stable/modules/generated/sklearn.linear_model.MultiTaskElasticNet.html#sklearn.linear_model.MultiTaskElasticNet]."
   ]
  },
  {
   "cell_type": "markdown",
   "metadata": {},
   "source": [
    "__Q: Do the same as before, but with (multi-task) elastic net instead!__"
   ]
  },
  {
   "cell_type": "code",
   "execution_count": null,
   "metadata": {},
   "outputs": [],
   "source": [
    "#Answer: \n",
    "mt_l1l2 = linear_model.MultiTaskElasticNet(fit_intercept = True, max_iter = 6000)\n",
    "alphas = np.logspace(-4., 2., num = 20)\n",
    "l1_ratios = np.linspace(0.5, 0.99, num = 10)\n",
    "model_mt_l1l2 = model_selection.GridSearchCV(mt_l1l2,\n",
    "                                          param_grid = {'alpha': alphas, 'l1_ratio': l1_ratios},\n",
    "                                          scoring = 'explained_variance').fit(X_both_tr, y_both_tr)"
   ]
  },
  {
   "cell_type": "markdown",
   "metadata": {},
   "source": [
    "## Network-constrained lasso"
   ]
  },
  {
   "cell_type": "markdown",
   "metadata": {},
   "source": [
    "### Load the network"
   ]
  },
  {
   "cell_type": "code",
   "execution_count": null,
   "metadata": {},
   "outputs": [],
   "source": [
    "from scipy import sparse"
   ]
  },
  {
   "cell_type": "code",
   "execution_count": null,
   "metadata": {},
   "outputs": [],
   "source": [
    "w_saved = np.loadtxt('data/athaliana_small.W.txt') # adjacency matrix is in coordinate (or triplet) format"
   ]
  },
  {
   "cell_type": "code",
   "execution_count": null,
   "metadata": {},
   "outputs": [],
   "source": [
    "# Create adjacency matrix in scipy.sparse.coo_matrix format\n",
    "W = sparse.coo_matrix((w_saved[2, :], (np.array(w_saved[0, :], dtype = int), \n",
    "                                       np.array(w_saved[1, :], dtype = int))),\n",
    "                      shape = (p, p))"
   ]
  },
  {
   "cell_type": "markdown",
   "metadata": {},
   "source": [
    "### Create the transposed incidence matrix"
   ]
  },
  {
   "cell_type": "markdown",
   "metadata": {},
   "source": [
    "__Q: The incidence matrix of a graph? What is it again? You may refer to Wikipedia, or the paper `Network-constrained regularization and variable selection\n",
    "for analysis of genomic data`__"
   ]
  },
  {
   "cell_type": "markdown",
   "metadata": {},
   "source": [
    "__A:__ The incidence matrix $S$ is a matrix of dimensions (#nodes, #edges) such that $S S^T = L$, where $L$ is the Laplacian of the graph. Note that when there are many edges, the dimensions of $S$ can far exceed that of $L$!"
   ]
  },
  {
   "cell_type": "markdown",
   "metadata": {},
   "source": [
    "Now let's create it."
   ]
  },
  {
   "cell_type": "code",
   "execution_count": null,
   "metadata": {},
   "outputs": [],
   "source": [
    "degrees = np.zeros((p, ))\n",
    "for vertex in W.row:\n",
    "    degrees[vertex] += 2"
   ]
  },
  {
   "cell_type": "markdown",
   "metadata": {},
   "source": [
    "We will define `tim`, the \"transpose incidence matrix\""
   ]
  },
  {
   "cell_type": "code",
   "execution_count": null,
   "metadata": {},
   "outputs": [],
   "source": [
    "row_ix = 0\n",
    "tim = sparse.lil_matrix((w_saved[0].shape[0] // 2, p))\n",
    "for ix, edge in enumerate(w_saved[2, :]):\n",
    "    if w_saved[0, ix] < w_saved[1, ix]: # counts each edge-vertex link only once\n",
    "        tim[row_ix, w_saved[0, ix]] = np.sqrt(edge / degrees[W.row[ix]])\n",
    "        tim[row_ix, w_saved[1, ix]] = -np.sqrt(edge / degrees[W.row[ix]])\n",
    "        row_ix += 1"
   ]
  },
  {
   "cell_type": "markdown",
   "metadata": {},
   "source": [
    "Let us verify that tim is the transposed incidence matrix"
   ]
  },
  {
   "cell_type": "code",
   "execution_count": null,
   "metadata": {},
   "outputs": [],
   "source": [
    "laplacian1 = (np.transpose(tim) @ tim).toarray()"
   ]
  },
  {
   "cell_type": "code",
   "execution_count": null,
   "metadata": {},
   "outputs": [],
   "source": [
    "laplacian2 = np.diag(np.ones(p) - W.toarray().sum(axis = 0) / degrees) - \\\n",
    "W.toarray() / np.sqrt(np.outer(degrees, degrees))"
   ]
  },
  {
   "cell_type": "code",
   "execution_count": null,
   "metadata": {},
   "outputs": [],
   "source": [
    "np.allclose(laplacian1, laplacian2)"
   ]
  },
  {
   "cell_type": "code",
   "execution_count": null,
   "metadata": {},
   "outputs": [],
   "source": [
    "np.linalg.norm(np.where(np.abs(laplacian1 - laplacian2) > 1e-8)[0], ord = 0) / np.prod(laplacian1.shape)"
   ]
  },
  {
   "cell_type": "markdown",
   "metadata": {},
   "source": [
    "Conclusion: the computation of `tim` has errors in 0.7% of the cases. It should be fixed, but no time now! It should have a limited impact on the result, because only a small proportion of edges are miscomputed. Still, it's bad practice."
   ]
  },
  {
   "cell_type": "markdown",
   "metadata": {},
   "source": [
    "### Define ncLasso class"
   ]
  },
  {
   "cell_type": "code",
   "execution_count": null,
   "metadata": {},
   "outputs": [],
   "source": [
    "from sklearn import base, linear_model"
   ]
  },
  {
   "cell_type": "markdown",
   "metadata": {},
   "source": [
    "The network-constrained lasso is just a disguised lasso! By defining a modified design matrix X_new and output vector y_new, we can solve the network-constrained lasso problem using the usual `linear_model.Lasso` function.\n",
    "\n",
    "__Q: Go on the [paper introducing network-constrained lasso](https://academic.oup.com/bioinformatics/article/24/9/1175/206444) and fill in the missing line using Lemma 1.__"
   ]
  },
  {
   "cell_type": "markdown",
   "metadata": {},
   "source": [
    "__A:__ The missing line has been filled: the new design matrix $X_new$ is defined in the paper as $X_{new}^T = (1 + \\lambda_2)^{-1/2} (X^T | \\sqrt{\\lambda_2}S)^T$.\n",
    "This trick is similar to the one used to convert to elastic-net problem as a lasso problem.\n",
    "\n",
    "Note that this new design matrix is war larger than the original one: using sparse matrices is compulsory, as well as using functions that support use of sparse matrices."
   ]
  },
  {
   "cell_type": "code",
   "execution_count": null,
   "metadata": {},
   "outputs": [],
   "source": [
    "class ncLasso(base.BaseEstimator, base.RegressorMixin):\n",
    "    def __init__(self, transposed_incidence = None, lambda1 = 1.0, lambda2 = 1.0):\n",
    "        self.transposed_incidence = transposed_incidence # sparse matrix\n",
    "        self.lambda1 = lambda1\n",
    "        self.lambda2 = lambda2\n",
    "        \n",
    "    def fit(self, X, y, max_iter = 1000):       \n",
    "        alpha = self.lambda1 / (np.sqrt(self.lambda2 + 1.))\n",
    "        self.lasso = linear_model.Lasso(fit_intercept = True, \n",
    "                                        alpha = alpha, max_iter = max_iter)\n",
    "        y_new = np.hstack((y, np.zeros((self.transposed_incidence.shape[0], ))))\n",
    "        X_new = 1 / np.sqrt(self.lambda2 + 1) * sparse.vstack(\n",
    "            (X, np.sqrt(self.lambda2) * self.transposed_incidence) ## Missing line\n",
    "        )\n",
    "        self.lasso.fit(X_new, y_new)\n",
    "        self.coef_ = self.lasso.coef_[:X.shape[1]] / np.sqrt(self.lambda2 + 1)\n",
    "        return self\n",
    "        \n",
    "        \n",
    "    def predict(self, X, y = None):\n",
    "        return self.lasso.predict(X)\n",
    "    \n",
    "    \n",
    "    def score(self, X, y = None):\n",
    "        return self.lasso.score(X, y)                                        "
   ]
  },
  {
   "cell_type": "markdown",
   "metadata": {},
   "source": [
    "### Run network-constrained lasso"
   ]
  },
  {
   "cell_type": "code",
   "execution_count": null,
   "metadata": {},
   "outputs": [],
   "source": [
    "model_nclasso = ncLasso(tim, 0.00005, 0.00001)\n",
    "\n",
    "import time\n",
    "start = time.time()\n",
    "## DO NOT RUN (takes two hours to run)\n",
    "# model_nclasso.fit(X_2W_tr, y_2W_tr, max_iter = 2000)\n",
    "## END DO NOT RUN\n",
    "end = time.time()\n",
    "#print(end - start)"
   ]
  },
  {
   "cell_type": "code",
   "execution_count": null,
   "metadata": {},
   "outputs": [],
   "source": [
    "import pickle\n",
    "## DO NOT RUN\n",
    "#with open('model_nclasso.obj', 'wb') as f:\n",
    "#    pickle.dump(model_nclasso, f, pickle.HIGHEST_PROTOCOL)\n",
    "## END DO NOT RUN\n",
    "\n",
    "with open('model_nclasso.obj', 'rb') as f:\n",
    "    model_nclasso = pickle.load(f)"
   ]
  },
  {
   "cell_type": "code",
   "execution_count": null,
   "metadata": {},
   "outputs": [],
   "source": [
    "plt.figure(figsize = (6, 4))\n",
    "plt.scatter(range(p), # x = SNP position\n",
    "            model_nclasso.coef_)  # y = regression weights\n",
    "\n",
    "plt.xlabel(\"SNP\")\n",
    "plt.ylabel(\"elastic net regression weight\")\n",
    "plt.xlim([0, p])"
   ]
  },
  {
   "cell_type": "code",
   "execution_count": null,
   "metadata": {},
   "outputs": [],
   "source": [
    "print(\"%d SNPs selected,\" % \\\n",
    "    np.nonzero(model_nclasso.coef_)[0].shape)\n",
    "\n",
    "candidate_genes_hit = set([])\n",
    "num_snps_in_candidate_genes = 0\n",
    "for snp_idx in np.nonzero(model_nclasso.coef_)[0]:\n",
    "    for gene_id in genes_by_snp[snp_names[snp_idx]]:\n",
    "        if gene_id in candidate_genes:\n",
    "            candidate_genes_hit.add(gene_id)\n",
    "            num_snps_in_candidate_genes += 1\n",
    "\n",
    "print(\"%d SNPs are in %d candidate genes\" % (num_snps_in_candidate_genes, \n",
    "                                                          len(candidate_genes_hit)))"
   ]
  },
  {
   "cell_type": "code",
   "execution_count": null,
   "metadata": {},
   "outputs": [],
   "source": [
    "y_ncl1_pred = model_nclasso.predict(X_2W_te)\n",
    "print(metrics.explained_variance_score(y_2W_te, y_ncl1_pred))"
   ]
  },
  {
   "cell_type": "markdown",
   "metadata": {},
   "source": [
    "### Run ncLasso with cross-validation"
   ]
  },
  {
   "cell_type": "markdown",
   "metadata": {},
   "source": [
    "Define Hyperparameters"
   ]
  },
  {
   "cell_type": "code",
   "execution_count": null,
   "metadata": {},
   "outputs": [],
   "source": [
    "import numpy as np\n",
    "l1 = np.logspace(-6., -3., num = 6)\n",
    "l2 = np.logspace(-6., -3., num = 6)"
   ]
  },
  {
   "cell_type": "code",
   "execution_count": null,
   "metadata": {},
   "outputs": [],
   "source": [
    "nclasso = ncLasso(tim, 0.001, 0.001)"
   ]
  },
  {
   "cell_type": "code",
   "execution_count": null,
   "metadata": {},
   "outputs": [],
   "source": [
    "model_ncl1 = model_selection.GridSearchCV(nclasso, param_grid = {'lambda1': l1,\n",
    "                                                                 'lambda2': l2},\n",
    "                                   scoring = 'explained_variance')"
   ]
  },
  {
   "cell_type": "code",
   "execution_count": null,
   "metadata": {
    "scrolled": true
   },
   "outputs": [],
   "source": [
    "### This takes too much time to run!\n",
    "#model_ncl1.fit(X_2W_tr, y_2W_tr)"
   ]
  },
  {
   "cell_type": "code",
   "execution_count": null,
   "metadata": {},
   "outputs": [],
   "source": [
    "#plt.figure(figsize = (6, 4))\n",
    "#plt.scatter(range(p), # x = SNP position\n",
    "#            model_ncl1.best_estimator_.coef_)  # y = regression weights\n",
    "\n",
    "#plt.xlabel(\"SNP\")\n",
    "#plt.ylabel(\"elastic net regression weight\")\n",
    "#plt.xlim([0, p])"
   ]
  },
  {
   "cell_type": "markdown",
   "metadata": {},
   "source": [
    "If you want to use SConES/sfan, see [github/chagaz/sfan](https://github.com/chagaz/sfan). The StructuredSparsity notebook can help."
   ]
  },
  {
   "cell_type": "markdown",
   "metadata": {},
   "source": [
    "## Going further\n",
    "You can also used methods developped specifically for SNP detections! \n",
    "\n",
    "For instance SConES (Azencott et al 2013) has a publicly available implementation as an R package (https://github.com/hclimente/martini) or in python (https://github.com/chagaz/sfan)."
   ]
  }
 ],
 "metadata": {
  "kernelspec": {
   "display_name": "Python 3",
   "language": "python",
   "name": "python3"
  },
  "language_info": {
   "codemirror_mode": {
    "name": "ipython",
    "version": 3
   },
   "file_extension": ".py",
   "mimetype": "text/x-python",
   "name": "python",
   "nbconvert_exporter": "python",
   "pygments_lexer": "ipython3",
   "version": "3.8.5"
  }
 },
 "nbformat": 4,
 "nbformat_minor": 4
}
